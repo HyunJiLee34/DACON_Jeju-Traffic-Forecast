{
 "cells": [
  {
   "cell_type": "markdown",
   "id": "5258a79c",
   "metadata": {},
   "source": [
    "## 2(2) Merge\n",
    "제공데이터와 가공한 외부데이터를 병합한 후 parquet파일로 저장한다. "
   ]
  },
  {
   "cell_type": "markdown",
   "id": "712062c5",
   "metadata": {},
   "source": [
    "### Import"
   ]
  },
  {
   "cell_type": "code",
   "execution_count": 1,
   "id": "c92b5dc6",
   "metadata": {},
   "outputs": [],
   "source": [
    "import pandas as pd"
   ]
  },
  {
   "cell_type": "markdown",
   "id": "683564a1",
   "metadata": {},
   "source": [
    "### Read Data"
   ]
  },
  {
   "cell_type": "code",
   "execution_count": 2,
   "id": "77557679",
   "metadata": {},
   "outputs": [],
   "source": [
    "train = pd.read_csv('../data/raw/train.csv')\n",
    "test = pd.read_csv('../data/raw/test.csv')\n",
    "\n",
    "# 불필요한 열 제거\n",
    "del train['vehicle_restricted'],train['height_restricted']\n",
    "del test['vehicle_restricted'],test['height_restricted']"
   ]
  },
  {
   "cell_type": "code",
   "execution_count": 3,
   "id": "5728a02a",
   "metadata": {},
   "outputs": [],
   "source": [
    "cluster_train = pd.read_csv('../data/clean/cluster_train.csv')\n",
    "cluster_test = pd.read_csv('../data/clean/cluster_test.csv')"
   ]
  },
  {
   "cell_type": "code",
   "execution_count": 4,
   "id": "18d1f755",
   "metadata": {},
   "outputs": [],
   "source": [
    "enforce_train = pd.read_csv('../data/clean/enforce_train.csv')\n",
    "enforce_test = pd.read_csv('../data/clean/enforce_test.csv')"
   ]
  },
  {
   "cell_type": "code",
   "execution_count": 5,
   "id": "55946dcf",
   "metadata": {},
   "outputs": [],
   "source": [
    "child_train = pd.read_csv('../data/clean/child_train.csv')\n",
    "child_test = pd.read_csv('../data/clean/child_test.csv')"
   ]
  },
  {
   "cell_type": "code",
   "execution_count": 6,
   "id": "e0c0f4f5",
   "metadata": {},
   "outputs": [],
   "source": [
    "protect_train = pd.read_csv('../data/clean/protect_train.csv')\n",
    "protect_test = pd.read_csv('../data/clean/protect_test.csv')"
   ]
  },
  {
   "cell_type": "code",
   "execution_count": 7,
   "id": "a222fd07",
   "metadata": {},
   "outputs": [],
   "source": [
    "geometry_train = pd.read_parquet('../data/clean/geometry_train.parquet')[['id','length','speed','time']]\n",
    "geometry_test = pd.read_parquet('../data/clean/geometry_test.parquet')[['id','length','speed','time']]"
   ]
  },
  {
   "cell_type": "code",
   "execution_count": 16,
   "id": "79a7e607",
   "metadata": {
    "scrolled": true
   },
   "outputs": [
    {
     "name": "stdout",
     "output_type": "stream",
     "text": [
      "train shape: (4701217, 21) \n",
      " cluster_train shape: (4701217, 3) \n",
      " enforce_train shape: (4701217, 18) \n",
      " child_train shape: (4701217, 2) \n",
      " protect_train shape: (4701217, 3) \n",
      " geometry_train shape: (4701217, 4)\n",
      "test shape: (291241, 20) \n",
      " cluster_test shape: (291241, 3) \n",
      " enforce_test shape: (291241, 18) \n",
      " child_test shape: (291241, 2) \n",
      " protect_test shape: (291241, 3) \n",
      " geometry_test shape: (291241, 4)\n"
     ]
    }
   ],
   "source": [
    "print('train shape:', train.shape, '\\n', 'cluster_train shape:', cluster_train.shape, '\\n',\n",
    "      'enforce_train shape:', enforce_train.shape, '\\n', 'child_train shape:', child_train.shape, '\\n',\n",
    "      'protect_train shape:', protect_train.shape, '\\n', 'geometry_train shape:', geometry_train.shape)\n",
    "print('test shape:', test.shape, '\\n', 'cluster_test shape:', cluster_test.shape, '\\n',\n",
    "      'enforce_test shape:', enforce_test.shape, '\\n', 'child_test shape:', child_test.shape, '\\n',\n",
    "      'protect_test shape:', protect_test.shape, '\\n', 'geometry_test shape:', geometry_test.shape)"
   ]
  },
  {
   "cell_type": "markdown",
   "id": "98eb8c6b",
   "metadata": {},
   "source": [
    "### Merge"
   ]
  },
  {
   "cell_type": "code",
   "execution_count": 17,
   "id": "d790f56e",
   "metadata": {},
   "outputs": [],
   "source": [
    "clean_train = pd.merge(train, cluster_train, on='id').merge(enforce_train, on='id').merge(child_train, on='id')\\\n",
    "              .merge(protect_train, on='id').merge(geometry_train, on='id')\n",
    "clean_test = pd.merge(test, cluster_test, on='id').merge(enforce_test, on='id').merge(child_test, on='id')\\\n",
    "             .merge(protect_test, on='id').merge(geometry_test, on='id')"
   ]
  },
  {
   "cell_type": "code",
   "execution_count": 18,
   "id": "9c4af64e",
   "metadata": {},
   "outputs": [
    {
     "name": "stdout",
     "output_type": "stream",
     "text": [
      "clean_train.shape: (4701217, 46) \n",
      " clean_test.shape: (291241, 45)\n"
     ]
    }
   ],
   "source": [
    "print('clean_train.shape:', clean_train.shape, '\\n', 'clean_test.shape:', clean_test.shape)"
   ]
  },
  {
   "cell_type": "markdown",
   "id": "a2dc8a58",
   "metadata": {},
   "source": [
    "### Save Data"
   ]
  },
  {
   "cell_type": "code",
   "execution_count": 19,
   "id": "5a494333",
   "metadata": {},
   "outputs": [],
   "source": [
    "clean_train.to_parquet('../data/clean/clean_train.parquet')\n",
    "clean_test.to_parquet('../data/clean/clean_test.parquet')"
   ]
  },
  {
   "cell_type": "code",
   "execution_count": null,
   "id": "dae0ab18",
   "metadata": {},
   "outputs": [],
   "source": []
  }
 ],
 "metadata": {
  "kernelspec": {
   "display_name": "Python 3",
   "language": "python",
   "name": "python3"
  },
  "language_info": {
   "codemirror_mode": {
    "name": "ipython",
    "version": 3
   },
   "file_extension": ".py",
   "mimetype": "text/x-python",
   "name": "python",
   "nbconvert_exporter": "python",
   "pygments_lexer": "ipython3",
   "version": "3.8.8"
  }
 },
 "nbformat": 4,
 "nbformat_minor": 5
}
