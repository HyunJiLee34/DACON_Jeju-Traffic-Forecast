{
 "cells": [
  {
   "cell_type": "markdown",
   "id": "0a25eb28",
   "metadata": {},
   "source": [
    "## 1(1) Competition&Data Information"
   ]
  },
  {
   "cell_type": "markdown",
   "id": "40186d0c",
   "metadata": {},
   "source": [
    "### Import"
   ]
  },
  {
   "cell_type": "code",
   "execution_count": 1,
   "id": "1ea42883",
   "metadata": {},
   "outputs": [],
   "source": [
    "import pandas as pd"
   ]
  },
  {
   "cell_type": "markdown",
   "id": "95f4f343",
   "metadata": {},
   "source": [
    "### $\\blacktriangleright$ Competition Information\n",
    "- 대회를 통한 궁극적인 목표는 제주도 유동인구가 늘어나 생긴 `제주도 내 교통 정체(체증) 구간`을 예측하고자 한다. \n",
    "- 출발지점에서 도착지점까지 걸리는 `평균속도(km/h)`를 예측하며 평가지표는 MAE이다.<br>\n",
    "  $$\\large MAE = \\frac{1}{\\LARGE n} \\underset{i=1}{\\overset{n}{\\sum}} |\\hat{y_i} - y_i|$$\n",
    "- Dacon은 Data Leakage에 굉장히 민감하여 Test와 관련된 모든 정보는 유의해야 한다.<br>\n",
    "  Categorical Encoding시 one-hot(pd.get_dummies) 등 Test 내 예상하지 못한 값, 예상한 값이나 발생하지 않는 경우를 고려하지 못하는 방법은 사용하지 말아야 한다.\n",
    "- 22.11.14(10:00)에 대회가 종료되며 최종파일로 2개를 선택해 채점된다.\n",
    "- 상위 10개의 팀에 대해 각 팀별 예측 결과 활용방안을 발표해 최종 순위가 결정된다. \n",
    "\n",
    "- 유사대회\n",
    "  - [Kaggle] https://www.kaggle.com/code/xown3197/code-traffic\n",
    "    - 유동인구, 강수량, 풍속 등의 변수가 유의미하게 작용할 것이다.\n",
    "    - Test기간을 사용하면 안됨으로 전년동월 데이터를 사용하는 등의 방법을 취해야 한다.\n",
    "  - [Kaggle] https://www.kaggle.com/competitions/2021-ai-termproject-19011827\n",
    "    - 기온, 강수량, 7시와 20시 교통량의 변수가 유의미하게 작용할 것이다.\n",
    "    - 수집과 Test기간을 고려해야 한다.\n",
    "  - `[Kaggle]` https://www.kaggle.com/code/dowaari/taxi-trip-duration-v1\n",
    "    - 위경도 변환 등 유용한 변수가 많다. 모두 시도해보고 제주특별자치도의 특성에 맞게 다른 방법도 고려해본다."
   ]
  },
  {
   "cell_type": "markdown",
   "id": "94cc4128",
   "metadata": {},
   "source": [
    "### $\\blacktriangleright$ Define Data\n",
    "- Datetime Variable\n",
    "  - base_date\n",
    "- Categorical Variable\n",
    "  - Multiclass\n",
    "    - day_of_week, base_hour\n",
    "    - connect_code\n",
    "    - maximum_speed_limit\n",
    "    - weight_restricted, hight_restricted\n",
    "    - road_name, road_type, road_rating\n",
    "    - start_node_name, end_node_name\n",
    "    - vehicle_restricted\n",
    "  - Binary\n",
    "    - road_in_use\n",
    "    - multi_linked\n",
    "    - start_turn_restricted, end_turn_restricted\n",
    "- Numeric Variable\n",
    "  - lane_count\n",
    "  - start_latitude, start_longitude\n",
    "  - end_latitude, end_longitude\n",
    "- `Target`<br>\n",
    "  :출발부터 도착까지의 평균 속력\n",
    "  - 정체 구간 정보\n",
    "  - 내비게이션 총 거리, 평균 소요 시간"
   ]
  },
  {
   "cell_type": "code",
   "execution_count": 2,
   "id": "c5531598",
   "metadata": {},
   "outputs": [
    {
     "data": {
      "text/html": [
       "<div>\n",
       "<style scoped>\n",
       "    .dataframe tbody tr th:only-of-type {\n",
       "        vertical-align: middle;\n",
       "    }\n",
       "\n",
       "    .dataframe tbody tr th {\n",
       "        vertical-align: top;\n",
       "    }\n",
       "\n",
       "    .dataframe thead th {\n",
       "        text-align: right;\n",
       "    }\n",
       "</style>\n",
       "<table border=\"1\" class=\"dataframe\">\n",
       "  <thead>\n",
       "    <tr style=\"text-align: right;\">\n",
       "      <th></th>\n",
       "      <th>변수명</th>\n",
       "      <th>변수 설명</th>\n",
       "    </tr>\n",
       "  </thead>\n",
       "  <tbody>\n",
       "    <tr>\n",
       "      <th>0</th>\n",
       "      <td>id</td>\n",
       "      <td>아이디</td>\n",
       "    </tr>\n",
       "    <tr>\n",
       "      <th>1</th>\n",
       "      <td>base_date</td>\n",
       "      <td>날짜</td>\n",
       "    </tr>\n",
       "    <tr>\n",
       "      <th>2</th>\n",
       "      <td>day_of_week</td>\n",
       "      <td>요일</td>\n",
       "    </tr>\n",
       "    <tr>\n",
       "      <th>3</th>\n",
       "      <td>base_hour</td>\n",
       "      <td>시간대</td>\n",
       "    </tr>\n",
       "    <tr>\n",
       "      <th>4</th>\n",
       "      <td>road_in_use</td>\n",
       "      <td>도로사용여부</td>\n",
       "    </tr>\n",
       "    <tr>\n",
       "      <th>5</th>\n",
       "      <td>lane_count</td>\n",
       "      <td>차로수</td>\n",
       "    </tr>\n",
       "    <tr>\n",
       "      <th>6</th>\n",
       "      <td>road_rating</td>\n",
       "      <td>도로등급</td>\n",
       "    </tr>\n",
       "    <tr>\n",
       "      <th>7</th>\n",
       "      <td>multi_linked</td>\n",
       "      <td>중용구간 여부</td>\n",
       "    </tr>\n",
       "    <tr>\n",
       "      <th>8</th>\n",
       "      <td>connect_code</td>\n",
       "      <td>연결로 코드</td>\n",
       "    </tr>\n",
       "    <tr>\n",
       "      <th>9</th>\n",
       "      <td>maximum_speed_limit</td>\n",
       "      <td>최고속도제한</td>\n",
       "    </tr>\n",
       "    <tr>\n",
       "      <th>10</th>\n",
       "      <td>weight_restricted</td>\n",
       "      <td>통과제한하중</td>\n",
       "    </tr>\n",
       "    <tr>\n",
       "      <th>11</th>\n",
       "      <td>hight_restricted</td>\n",
       "      <td>통과제한높이</td>\n",
       "    </tr>\n",
       "    <tr>\n",
       "      <th>12</th>\n",
       "      <td>road_type</td>\n",
       "      <td>도로유형</td>\n",
       "    </tr>\n",
       "    <tr>\n",
       "      <th>13</th>\n",
       "      <td>start_latitude</td>\n",
       "      <td>시작지점의 위도</td>\n",
       "    </tr>\n",
       "    <tr>\n",
       "      <th>14</th>\n",
       "      <td>start_longitude</td>\n",
       "      <td>시작지점의 경도</td>\n",
       "    </tr>\n",
       "    <tr>\n",
       "      <th>15</th>\n",
       "      <td>start_turn_restricted</td>\n",
       "      <td>시작 지점의 회전제한 유무</td>\n",
       "    </tr>\n",
       "    <tr>\n",
       "      <th>16</th>\n",
       "      <td>end_latitude</td>\n",
       "      <td>도착지점의 위도</td>\n",
       "    </tr>\n",
       "    <tr>\n",
       "      <th>17</th>\n",
       "      <td>end_longitude</td>\n",
       "      <td>도착지점의 경도</td>\n",
       "    </tr>\n",
       "    <tr>\n",
       "      <th>18</th>\n",
       "      <td>end_turn_restricted</td>\n",
       "      <td>도작지점의 회전제한 유무</td>\n",
       "    </tr>\n",
       "    <tr>\n",
       "      <th>19</th>\n",
       "      <td>road_name</td>\n",
       "      <td>도로명</td>\n",
       "    </tr>\n",
       "    <tr>\n",
       "      <th>20</th>\n",
       "      <td>start_node_name</td>\n",
       "      <td>시작지점명</td>\n",
       "    </tr>\n",
       "    <tr>\n",
       "      <th>21</th>\n",
       "      <td>end_node_name</td>\n",
       "      <td>도착지점명</td>\n",
       "    </tr>\n",
       "    <tr>\n",
       "      <th>22</th>\n",
       "      <td>vehicle_restricted</td>\n",
       "      <td>통과제한차량</td>\n",
       "    </tr>\n",
       "    <tr>\n",
       "      <th>23</th>\n",
       "      <td>target</td>\n",
       "      <td>평균속도(km)</td>\n",
       "    </tr>\n",
       "  </tbody>\n",
       "</table>\n",
       "</div>"
      ],
      "text/plain": [
       "                      변수명           변수 설명\n",
       "0                      id             아이디\n",
       "1               base_date              날짜\n",
       "2             day_of_week              요일\n",
       "3               base_hour             시간대\n",
       "4             road_in_use          도로사용여부\n",
       "5              lane_count             차로수\n",
       "6             road_rating            도로등급\n",
       "7            multi_linked         중용구간 여부\n",
       "8            connect_code          연결로 코드\n",
       "9     maximum_speed_limit          최고속도제한\n",
       "10      weight_restricted          통과제한하중\n",
       "11       hight_restricted          통과제한높이\n",
       "12              road_type            도로유형\n",
       "13         start_latitude        시작지점의 위도\n",
       "14        start_longitude        시작지점의 경도\n",
       "15  start_turn_restricted  시작 지점의 회전제한 유무\n",
       "16           end_latitude        도착지점의 위도\n",
       "17          end_longitude        도착지점의 경도\n",
       "18    end_turn_restricted   도작지점의 회전제한 유무\n",
       "19              road_name             도로명\n",
       "20        start_node_name           시작지점명\n",
       "21          end_node_name           도착지점명\n",
       "22     vehicle_restricted          통과제한차량\n",
       "23                 target        평균속도(km)"
      ]
     },
     "metadata": {},
     "output_type": "display_data"
    }
   ],
   "source": [
    "display(pd.read_csv('data_info.csv'))"
   ]
  },
  {
   "cell_type": "markdown",
   "id": "90322278",
   "metadata": {},
   "source": [
    "### $\\blacktriangleright$ Out Data\n",
    "- 사용에 법적 제약이 없고 누구나 사용할 수 있는 외부 데이터이며 Test시점이 아닌 2022년 8월 이전 데이터만 사용가능하다.\n",
    "- API를 사용할 경우 누구나 사용할 수 있으며 호출 횟수에 대한 제약이 없어야 사용할 수 있다."
   ]
  },
  {
   "cell_type": "markdown",
   "id": "8cea67ce",
   "metadata": {},
   "source": [
    "- [Jejudatahub] 프로젝트에 담아두었다.\n",
    "- [제주도 도로별 속도] http://www.jejuits.go.kr/road_statistics/road_statisticsView.do\n",
    "  - Target과 유사한 데이터이나 일별 수집해야한다.\n",
    "- [제주도 일일 전력량] https://www.data.go.kr/data/15065239/fileData.do\n",
    "  - 2020 ~ 2022.08까지 일별 시간대 전력량 데이터이다.\n",
    "  - 제주도 내 해당 일 시간대에 머문 인구를 대변할 수 있다.\n",
    "- [제주도 위경도 정보] https://www.data.go.kr/data/15004770/fileData.do\n",
    "  - 2015.12.31.시점 제주도 내 모든 장소의 위경도 좌표를 담은 데이터이다.\n",
    "  - 데이터 내 위경도 좌표로부터 읍면동, 건물정보, 특성 등의 정보를 추출할 수 있다.\n",
    "- [제주도 버스 시간표] http://bus.jeju.go.kr/publicTrafficInformation/generalBusSchedule?viewtype=2\n",
    "  - 정류장 간 소요시간을 산출할 수 있다.\n",
    "  - 노선별로 수집해야 하며 정류장 이름으로 Geocoding해야 한다.\n",
    "- [제주도 사고다발 데이터] https://www.jejudatahub.net/data/view/data/863\n",
    "  - 2017.01.01. ~ 2020.12.31. 동안 동별 사고 발생 데이터이다."
   ]
  },
  {
   "cell_type": "code",
   "execution_count": null,
   "id": "4e739e34",
   "metadata": {},
   "outputs": [],
   "source": [
    "# https://www.data.go.kr/data/15075838/openapi.do\n",
    "# https://www.data.go.kr/data/15099715/openapi.do"
   ]
  },
  {
   "cell_type": "markdown",
   "id": "6d8ee656",
   "metadata": {},
   "source": [
    "### $\\blacktriangleright$ EDA"
   ]
  },
  {
   "cell_type": "code",
   "execution_count": 6,
   "id": "6c077db5",
   "metadata": {
    "scrolled": false
   },
   "outputs": [
    {
     "data": {
      "image/png": "[encoded data removed]",
      "text/plain": [
       "<Figure size 432x288 with 1 Axes>"
      ]
     },
     "metadata": {
      "needs_background": "light"
     },
     "output_type": "display_data"
    }
   ],
   "source": [
    "train[['start_latitude','start_longitude']].plot.scatter(x='start_latitude',y='start_longitude')\n",
    "plt.show()"
   ]
  },
  {
   "cell_type": "code",
   "execution_count": 8,
   "id": "945bf5a5",
   "metadata": {
    "scrolled": true
   },
   "outputs": [
    {
     "data": {
      "image/png": "[encoded data removed]",
      "text/plain": [
       "<Figure size 432x288 with 1 Axes>"
      ]
     },
     "metadata": {
      "needs_background": "light"
     },
     "output_type": "display_data"
    }
   ],
   "source": [
    "train[['end_latitude','end_longitude']].plot.scatter(x='end_latitude',y='end_longitude')\n",
    "plt.show()"
   ]
  },
  {
   "cell_type": "code",
   "execution_count": null,
   "id": "593a56b1",
   "metadata": {},
   "outputs": [],
   "source": []
  }
 ],
 "metadata": {
  "kernelspec": {
   "display_name": "Python 3 (ipykernel)",
   "language": "python",
   "name": "python3"
  },
  "language_info": {
   "codemirror_mode": {
    "name": "ipython",
    "version": 3
   },
   "file_extension": ".py",
   "mimetype": "text/x-python",
   "name": "python",
   "nbconvert_exporter": "python",
   "pygments_lexer": "ipython3",
   "version": "3.9.7"
  }
 },
 "nbformat": 4,
 "nbformat_minor": 5
}
